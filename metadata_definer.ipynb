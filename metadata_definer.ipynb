{
 "cells": [
  {
   "cell_type": "code",
   "execution_count": 1,
   "metadata": {},
   "outputs": [
    {
     "name": "stdout",
     "output_type": "stream",
     "text": [
      "ImageWidth: 3840\n",
      "ImageLength: 5120\n",
      "BitsPerSample: (8, 8, 8)\n",
      "ResolutionUnit: 2\n",
      "ExifOffset: 272\n",
      "DeviceSettingDescription: b'ipp\\x00'\n",
      "Make: HUAWEI\n",
      "Model: JSN-L22\n",
      "Software: JSN-L22 10.0.0.239(C636E6R1P1)\n",
      "Orientation: 0\n",
      "DateTime: 2024:07:08 11:43:48\n",
      "YCbCrPositioning: 1\n",
      "XResolution: 72.0\n",
      "YResolution: 72.0\n",
      "ExifVersion: b'0210'\n",
      "ComponentsConfiguration: b'\\x01\\x02\\x03\\x00'\n",
      "CompressedBitsPerPixel: 0.95\n",
      "DateTimeOriginal: 2024:07:08 11:43:48\n",
      "DateTimeDigitized: 2024:07:08 11:43:48\n",
      "ShutterSpeedValue: 29.8973\n",
      "ApertureValue: 1.69\n",
      "BrightnessValue: 0.0\n",
      "ExposureBiasValue: 0.0\n",
      "MaxApertureValue: 1.69\n",
      "MeteringMode: 5\n",
      "LightSource: 1\n",
      "Flash: 24\n",
      "FocalLength: 3.88\n",
      "ColorSpace: 1\n",
      "ExifImageWidth: 3840\n",
      "SubsecTime: 132448\n",
      "SubsecTimeOriginal: 132448\n",
      "SubsecTimeDigitized: 132448\n",
      "ExifImageHeight: 5120\n",
      "SubjectDistanceRange: 0\n",
      "SensingMethod: 2\n",
      "FileSource: b'\\x03'\n",
      "ExposureTime: 0.07\n",
      "ExifInteroperabilityOffset: 8918\n",
      "FNumber: 1.8\n",
      "SceneType: b'\\x01'\n",
      "ExposureProgram: 2\n",
      "CustomRendered: 1\n",
      "ISOSpeedRatings: 1000\n",
      "ExposureMode: 0\n",
      "FlashPixVersion: b'0100'\n",
      "WhiteBalance: 0\n",
      "DigitalZoomRatio: 1.0\n",
      "FocalLengthIn35mmFilm: 27\n",
      "SceneCaptureType: 0\n",
      "GainControl: 0\n",
      "Contrast: 0\n",
      "Saturation: 0\n",
      "Sharpness: 0\n",
      "MakerNote: b'##**mde\\x00'\n"
     ]
    }
   ],
   "source": [
    "from PIL import Image\n",
    "from PIL.ExifTags import TAGS\n",
    "\n",
    "# Membaca gambar\n",
    "image_path = 'image/tutup_parfum.jpg'\n",
    "image = Image.open(image_path)\n",
    "\n",
    "# Mendapatkan metadata\n",
    "exif_data = image._getexif()\n",
    "\n",
    "# Menampilkan metadata\n",
    "if exif_data:\n",
    "    for tag, value in exif_data.items():\n",
    "        tag_name = TAGS.get(tag, tag)\n",
    "        print(f\"{tag_name}: {value}\")\n",
    "else:\n",
    "    print(\"Tidak ada metadata yang ditemukan\")"
   ]
  }
 ],
 "metadata": {
  "kernelspec": {
   "display_name": "Python 3",
   "language": "python",
   "name": "python3"
  },
  "language_info": {
   "codemirror_mode": {
    "name": "ipython",
    "version": 3
   },
   "file_extension": ".py",
   "mimetype": "text/x-python",
   "name": "python",
   "nbconvert_exporter": "python",
   "pygments_lexer": "ipython3",
   "version": "3.12.1"
  }
 },
 "nbformat": 4,
 "nbformat_minor": 2
}
